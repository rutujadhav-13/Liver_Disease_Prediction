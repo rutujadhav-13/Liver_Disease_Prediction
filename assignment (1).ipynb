{
  "cells": [
    {
      "cell_type": "markdown",
      "id": "9f37b6b3-e1ed-4c88-bf56-14e1f57ec320",
      "metadata": {
        "id": "9f37b6b3-e1ed-4c88-bf56-14e1f57ec320"
      },
      "source": [
        "<h2>Rutuja Dhamdhere</h2>|"
      ]
    },
    {
      "cell_type": "markdown",
      "id": "f61917f8-5bd3-41fe-b91a-c1a65885ef56",
      "metadata": {
        "id": "f61917f8-5bd3-41fe-b91a-c1a65885ef56"
      },
      "source": [
        "<h4>The data set contains 416 liver patient records and 167 non liver patient records\n",
        "collected from North East of Andhra Pradesh, India. The \"Dataset\" column is a class\n",
        "label used to divide groups into liver patient (liver disease) or not (no disease). This\n",
        "data set contains 441 male patient records and 142 female patient records.\n",
        "Any patient whose age exceeded 89 is listed as being of age \"90\".\n",
        "Attributes/Columns:\n",
        "• Age of the patient\n",
        "• Gender of the patient\n",
        "• Total Bilirubin\n",
        "• Direct Bilirubin\n",
        "• Alkaline Phosphotase\n",
        "• Alamine Aminotransferase\n",
        "</h4>"
      ]
    },
    {
      "cell_type": "code",
      "execution_count": null,
      "id": "cd038407-154f-4c95-9037-b5256734b22e",
      "metadata": {
        "id": "cd038407-154f-4c95-9037-b5256734b22e"
      },
      "outputs": [],
      "source": [
        "import pandas as pd\n",
        "import numpy as np\n",
        "import matplotlib.pyplot as plt\n",
        "from sklearn.preprocessing import LabelEncoder\n",
        "from sklearn.model_selection import cross_val_score, GridSearchCV, RandomizedSearchCV\n",
        "from sklearn.preprocessing import MinMaxScaler\n",
        "from sklearn.tree import DecisionTreeClassifier\n",
        "from sklearn.naive_bayes import GaussianNB\n",
        "from sklearn.metrics import accuracy_score, confusion_matrix, precision_score, recall_score, f1_score\n",
        "import joblib\n",
        "from flask import Flask, request, jsonify\n"
      ]
    },
    {
      "cell_type": "markdown",
      "id": "f65cc820-49ae-4f84-8dc7-26f086fdfa63",
      "metadata": {
        "id": "f65cc820-49ae-4f84-8dc7-26f086fdfa63"
      },
      "source": [
        "<h3>exploring the data</h3>"
      ]
    },
    {
      "cell_type": "code",
      "execution_count": null,
      "id": "2b7fe90e-b513-4f0d-bf83-a9da30ebdeae",
      "metadata": {
        "id": "2b7fe90e-b513-4f0d-bf83-a9da30ebdeae",
        "outputId": "2d364ac6-fe3d-49ae-e956-c92a1ae05b1f"
      },
      "outputs": [
        {
          "data": {
            "text/html": [
              "<div>\n",
              "<style scoped>\n",
              "    .dataframe tbody tr th:only-of-type {\n",
              "        vertical-align: middle;\n",
              "    }\n",
              "\n",
              "    .dataframe tbody tr th {\n",
              "        vertical-align: top;\n",
              "    }\n",
              "\n",
              "    .dataframe thead th {\n",
              "        text-align: right;\n",
              "    }\n",
              "</style>\n",
              "<table border=\"1\" class=\"dataframe\">\n",
              "  <thead>\n",
              "    <tr style=\"text-align: right;\">\n",
              "      <th></th>\n",
              "      <th>Age</th>\n",
              "      <th>Gender</th>\n",
              "      <th>Total_Bilirubin</th>\n",
              "      <th>Direct_Bilirubin</th>\n",
              "      <th>Alkaline_Phosphotase</th>\n",
              "      <th>Alamine_Aminotransferase</th>\n",
              "      <th>Aspartate_Aminotransferase</th>\n",
              "      <th>Total_Protiens</th>\n",
              "      <th>Albumin</th>\n",
              "      <th>Albumin_and_Globulin_Ratio</th>\n",
              "      <th>Dataset</th>\n",
              "    </tr>\n",
              "  </thead>\n",
              "  <tbody>\n",
              "    <tr>\n",
              "      <th>0</th>\n",
              "      <td>65</td>\n",
              "      <td>Female</td>\n",
              "      <td>0.7</td>\n",
              "      <td>0.1</td>\n",
              "      <td>187.0</td>\n",
              "      <td>16.0</td>\n",
              "      <td>18.0</td>\n",
              "      <td>6.8</td>\n",
              "      <td>3.3</td>\n",
              "      <td>0.90</td>\n",
              "      <td>1</td>\n",
              "    </tr>\n",
              "    <tr>\n",
              "      <th>1</th>\n",
              "      <td>62</td>\n",
              "      <td>Male</td>\n",
              "      <td>10.9</td>\n",
              "      <td>5.5</td>\n",
              "      <td>699.0</td>\n",
              "      <td>64.0</td>\n",
              "      <td>100.0</td>\n",
              "      <td>7.5</td>\n",
              "      <td>3.2</td>\n",
              "      <td>0.74</td>\n",
              "      <td>1</td>\n",
              "    </tr>\n",
              "    <tr>\n",
              "      <th>2</th>\n",
              "      <td>62</td>\n",
              "      <td>Male</td>\n",
              "      <td>7.3</td>\n",
              "      <td>4.1</td>\n",
              "      <td>490.0</td>\n",
              "      <td>60.0</td>\n",
              "      <td>68.0</td>\n",
              "      <td>7.0</td>\n",
              "      <td>3.3</td>\n",
              "      <td>0.89</td>\n",
              "      <td>1</td>\n",
              "    </tr>\n",
              "    <tr>\n",
              "      <th>3</th>\n",
              "      <td>58</td>\n",
              "      <td>Male</td>\n",
              "      <td>1.0</td>\n",
              "      <td>0.4</td>\n",
              "      <td>182.0</td>\n",
              "      <td>14.0</td>\n",
              "      <td>20.0</td>\n",
              "      <td>6.8</td>\n",
              "      <td>3.4</td>\n",
              "      <td>1.00</td>\n",
              "      <td>1</td>\n",
              "    </tr>\n",
              "    <tr>\n",
              "      <th>4</th>\n",
              "      <td>72</td>\n",
              "      <td>Male</td>\n",
              "      <td>3.9</td>\n",
              "      <td>2.0</td>\n",
              "      <td>195.0</td>\n",
              "      <td>27.0</td>\n",
              "      <td>59.0</td>\n",
              "      <td>7.3</td>\n",
              "      <td>2.4</td>\n",
              "      <td>0.40</td>\n",
              "      <td>1</td>\n",
              "    </tr>\n",
              "    <tr>\n",
              "      <th>...</th>\n",
              "      <td>...</td>\n",
              "      <td>...</td>\n",
              "      <td>...</td>\n",
              "      <td>...</td>\n",
              "      <td>...</td>\n",
              "      <td>...</td>\n",
              "      <td>...</td>\n",
              "      <td>...</td>\n",
              "      <td>...</td>\n",
              "      <td>...</td>\n",
              "      <td>...</td>\n",
              "    </tr>\n",
              "    <tr>\n",
              "      <th>578</th>\n",
              "      <td>60</td>\n",
              "      <td>Male</td>\n",
              "      <td>0.5</td>\n",
              "      <td>0.1</td>\n",
              "      <td>500.0</td>\n",
              "      <td>20.0</td>\n",
              "      <td>34.0</td>\n",
              "      <td>5.9</td>\n",
              "      <td>1.6</td>\n",
              "      <td>0.37</td>\n",
              "      <td>2</td>\n",
              "    </tr>\n",
              "    <tr>\n",
              "      <th>579</th>\n",
              "      <td>40</td>\n",
              "      <td>Male</td>\n",
              "      <td>0.6</td>\n",
              "      <td>0.1</td>\n",
              "      <td>98.0</td>\n",
              "      <td>35.0</td>\n",
              "      <td>31.0</td>\n",
              "      <td>6.0</td>\n",
              "      <td>3.2</td>\n",
              "      <td>1.10</td>\n",
              "      <td>1</td>\n",
              "    </tr>\n",
              "    <tr>\n",
              "      <th>580</th>\n",
              "      <td>52</td>\n",
              "      <td>Male</td>\n",
              "      <td>0.8</td>\n",
              "      <td>0.2</td>\n",
              "      <td>245.0</td>\n",
              "      <td>48.0</td>\n",
              "      <td>49.0</td>\n",
              "      <td>6.4</td>\n",
              "      <td>3.2</td>\n",
              "      <td>1.00</td>\n",
              "      <td>1</td>\n",
              "    </tr>\n",
              "    <tr>\n",
              "      <th>581</th>\n",
              "      <td>31</td>\n",
              "      <td>Male</td>\n",
              "      <td>1.3</td>\n",
              "      <td>0.5</td>\n",
              "      <td>184.0</td>\n",
              "      <td>29.0</td>\n",
              "      <td>32.0</td>\n",
              "      <td>6.8</td>\n",
              "      <td>3.4</td>\n",
              "      <td>1.00</td>\n",
              "      <td>1</td>\n",
              "    </tr>\n",
              "    <tr>\n",
              "      <th>582</th>\n",
              "      <td>38</td>\n",
              "      <td>Male</td>\n",
              "      <td>1.0</td>\n",
              "      <td>0.3</td>\n",
              "      <td>216.0</td>\n",
              "      <td>21.0</td>\n",
              "      <td>24.0</td>\n",
              "      <td>7.3</td>\n",
              "      <td>4.4</td>\n",
              "      <td>1.50</td>\n",
              "      <td>2</td>\n",
              "    </tr>\n",
              "  </tbody>\n",
              "</table>\n",
              "<p>583 rows × 11 columns</p>\n",
              "</div>"
            ],
            "text/plain": [
              "     Age  Gender  Total_Bilirubin  Direct_Bilirubin  Alkaline_Phosphotase   \n",
              "0     65  Female              0.7               0.1                 187.0  \\\n",
              "1     62    Male             10.9               5.5                 699.0   \n",
              "2     62    Male              7.3               4.1                 490.0   \n",
              "3     58    Male              1.0               0.4                 182.0   \n",
              "4     72    Male              3.9               2.0                 195.0   \n",
              "..   ...     ...              ...               ...                   ...   \n",
              "578   60    Male              0.5               0.1                 500.0   \n",
              "579   40    Male              0.6               0.1                  98.0   \n",
              "580   52    Male              0.8               0.2                 245.0   \n",
              "581   31    Male              1.3               0.5                 184.0   \n",
              "582   38    Male              1.0               0.3                 216.0   \n",
              "\n",
              "     Alamine_Aminotransferase  Aspartate_Aminotransferase  Total_Protiens   \n",
              "0                        16.0                        18.0             6.8  \\\n",
              "1                        64.0                       100.0             7.5   \n",
              "2                        60.0                        68.0             7.0   \n",
              "3                        14.0                        20.0             6.8   \n",
              "4                        27.0                        59.0             7.3   \n",
              "..                        ...                         ...             ...   \n",
              "578                      20.0                        34.0             5.9   \n",
              "579                      35.0                        31.0             6.0   \n",
              "580                      48.0                        49.0             6.4   \n",
              "581                      29.0                        32.0             6.8   \n",
              "582                      21.0                        24.0             7.3   \n",
              "\n",
              "     Albumin  Albumin_and_Globulin_Ratio  Dataset  \n",
              "0        3.3                        0.90        1  \n",
              "1        3.2                        0.74        1  \n",
              "2        3.3                        0.89        1  \n",
              "3        3.4                        1.00        1  \n",
              "4        2.4                        0.40        1  \n",
              "..       ...                         ...      ...  \n",
              "578      1.6                        0.37        2  \n",
              "579      3.2                        1.10        1  \n",
              "580      3.2                        1.00        1  \n",
              "581      3.4                        1.00        1  \n",
              "582      4.4                        1.50        2  \n",
              "\n",
              "[583 rows x 11 columns]"
            ]
          },
          "execution_count": 46,
          "metadata": {},
          "output_type": "execute_result"
        }
      ],
      "source": [
        "df = pd.read_csv('indian_liver_patient.csv')\n",
        "df"
      ]
    },
    {
      "cell_type": "code",
      "execution_count": null,
      "id": "cafd21a8-1258-4f4b-8227-71d47bcaf0c5",
      "metadata": {
        "id": "cafd21a8-1258-4f4b-8227-71d47bcaf0c5",
        "outputId": "66651736-5f6c-41d0-fb95-bbbff493e334"
      },
      "outputs": [
        {
          "data": {
            "text/plain": [
              "Age                             int64\n",
              "Gender                         object\n",
              "Total_Bilirubin               float64\n",
              "Direct_Bilirubin              float64\n",
              "Alkaline_Phosphotase          float64\n",
              "Alamine_Aminotransferase      float64\n",
              "Aspartate_Aminotransferase    float64\n",
              "Total_Protiens                float64\n",
              "Albumin                       float64\n",
              "Albumin_and_Globulin_Ratio    float64\n",
              "Dataset                         int64\n",
              "dtype: object"
            ]
          },
          "execution_count": 47,
          "metadata": {},
          "output_type": "execute_result"
        }
      ],
      "source": [
        "df.dtypes # for knowing the type of attributes"
      ]
    },
    {
      "cell_type": "code",
      "execution_count": null,
      "id": "0db1ff16-4fc9-4c99-9d86-208b35dea382",
      "metadata": {
        "id": "0db1ff16-4fc9-4c99-9d86-208b35dea382",
        "outputId": "df74ff3e-920a-42c7-c03e-96cce0e6fff5"
      },
      "outputs": [
        {
          "data": {
            "text/plain": [
              "<bound method NDFrame.describe of      Age  Gender  Total_Bilirubin  Direct_Bilirubin  Alkaline_Phosphotase   \n",
              "0     65  Female              0.7               0.1                 187.0  \\\n",
              "1     62    Male             10.9               5.5                 699.0   \n",
              "2     62    Male              7.3               4.1                 490.0   \n",
              "3     58    Male              1.0               0.4                 182.0   \n",
              "4     72    Male              3.9               2.0                 195.0   \n",
              "..   ...     ...              ...               ...                   ...   \n",
              "578   60    Male              0.5               0.1                 500.0   \n",
              "579   40    Male              0.6               0.1                  98.0   \n",
              "580   52    Male              0.8               0.2                 245.0   \n",
              "581   31    Male              1.3               0.5                 184.0   \n",
              "582   38    Male              1.0               0.3                 216.0   \n",
              "\n",
              "     Alamine_Aminotransferase  Aspartate_Aminotransferase  Total_Protiens   \n",
              "0                        16.0                        18.0             6.8  \\\n",
              "1                        64.0                       100.0             7.5   \n",
              "2                        60.0                        68.0             7.0   \n",
              "3                        14.0                        20.0             6.8   \n",
              "4                        27.0                        59.0             7.3   \n",
              "..                        ...                         ...             ...   \n",
              "578                      20.0                        34.0             5.9   \n",
              "579                      35.0                        31.0             6.0   \n",
              "580                      48.0                        49.0             6.4   \n",
              "581                      29.0                        32.0             6.8   \n",
              "582                      21.0                        24.0             7.3   \n",
              "\n",
              "     Albumin  Albumin_and_Globulin_Ratio  Dataset  \n",
              "0        3.3                        0.90        1  \n",
              "1        3.2                        0.74        1  \n",
              "2        3.3                        0.89        1  \n",
              "3        3.4                        1.00        1  \n",
              "4        2.4                        0.40        1  \n",
              "..       ...                         ...      ...  \n",
              "578      1.6                        0.37        2  \n",
              "579      3.2                        1.10        1  \n",
              "580      3.2                        1.00        1  \n",
              "581      3.4                        1.00        1  \n",
              "582      4.4                        1.50        2  \n",
              "\n",
              "[583 rows x 11 columns]>"
            ]
          },
          "execution_count": 48,
          "metadata": {},
          "output_type": "execute_result"
        }
      ],
      "source": [
        "df.describe  # for describing dataset"
      ]
    },
    {
      "cell_type": "code",
      "execution_count": null,
      "id": "285bd994-a1b4-4034-b692-44419a4ab0dd",
      "metadata": {
        "id": "285bd994-a1b4-4034-b692-44419a4ab0dd",
        "outputId": "1daccb4a-a4c2-4cef-a044-4875d2051baf"
      },
      "outputs": [
        {
          "data": {
            "text/plain": [
              "Age                           0\n",
              "Gender                        3\n",
              "Total_Bilirubin               0\n",
              "Direct_Bilirubin              1\n",
              "Alkaline_Phosphotase          2\n",
              "Alamine_Aminotransferase      2\n",
              "Aspartate_Aminotransferase    3\n",
              "Total_Protiens                0\n",
              "Albumin                       1\n",
              "Albumin_and_Globulin_Ratio    5\n",
              "Dataset                       0\n",
              "dtype: int64"
            ]
          },
          "execution_count": 49,
          "metadata": {},
          "output_type": "execute_result"
        }
      ],
      "source": [
        "df.isnull().sum() # to check the null value"
      ]
    },
    {
      "cell_type": "code",
      "execution_count": null,
      "id": "7dcbe96a-2ed9-4226-ab3c-bce1239ab2e6",
      "metadata": {
        "id": "7dcbe96a-2ed9-4226-ab3c-bce1239ab2e6",
        "outputId": "34fb85e0-2e1e-4893-fc5b-03bc18bf0f9c"
      },
      "outputs": [
        {
          "name": "stdout",
          "output_type": "stream",
          "text": [
            "Age 72\n",
            "Gender 3\n",
            "Total_Bilirubin 113\n",
            "Direct_Bilirubin 80\n",
            "Alkaline_Phosphotase 262\n",
            "Alamine_Aminotransferase 151\n",
            "Aspartate_Aminotransferase 177\n",
            "Total_Protiens 58\n",
            "Albumin 40\n",
            "Albumin_and_Globulin_Ratio 69\n",
            "Dataset 2\n"
          ]
        }
      ],
      "source": [
        "for i in df.columns:\n",
        "    print(i,df[i].nunique())"
      ]
    },
    {
      "cell_type": "code",
      "execution_count": null,
      "id": "08b904a4-67ef-4672-b328-a1015faa606e",
      "metadata": {
        "id": "08b904a4-67ef-4672-b328-a1015faa606e"
      },
      "outputs": [],
      "source": [
        "# LabelEncoder is used for converting categorical string columns to numeric.\n",
        "category_cols = ['Age','Gender','Total_Bilirubin','Direct_Bilirubin','Alkaline_Phosphotase','Alamine_Aminotransferase','Aspartate_Aminotransferase','Total_Protiens','Albumin','Albumin_and_Globulin_Ratio', 'Dataset']\n",
        "le = LabelEncoder()\n",
        "for col in category_cols:\n",
        "    df[col] = le.fit_transform(df[col])"
      ]
    },
    {
      "cell_type": "code",
      "execution_count": null,
      "id": "4626132f-29dc-4f25-8165-b72b8f9a7521",
      "metadata": {
        "id": "4626132f-29dc-4f25-8165-b72b8f9a7521",
        "outputId": "6cd8d051-fa18-4583-a580-5f6deb52b38f"
      },
      "outputs": [
        {
          "data": {
            "text/html": [
              "<div>\n",
              "<style scoped>\n",
              "    .dataframe tbody tr th:only-of-type {\n",
              "        vertical-align: middle;\n",
              "    }\n",
              "\n",
              "    .dataframe tbody tr th {\n",
              "        vertical-align: top;\n",
              "    }\n",
              "\n",
              "    .dataframe thead th {\n",
              "        text-align: right;\n",
              "    }\n",
              "</style>\n",
              "<table border=\"1\" class=\"dataframe\">\n",
              "  <thead>\n",
              "    <tr style=\"text-align: right;\">\n",
              "      <th></th>\n",
              "      <th>Age</th>\n",
              "      <th>Gender</th>\n",
              "      <th>Total_Bilirubin</th>\n",
              "      <th>Direct_Bilirubin</th>\n",
              "      <th>Alkaline_Phosphotase</th>\n",
              "      <th>Alamine_Aminotransferase</th>\n",
              "      <th>Aspartate_Aminotransferase</th>\n",
              "      <th>Total_Protiens</th>\n",
              "      <th>Albumin</th>\n",
              "      <th>Albumin_and_Globulin_Ratio</th>\n",
              "      <th>Dataset</th>\n",
              "    </tr>\n",
              "  </thead>\n",
              "  <tbody>\n",
              "    <tr>\n",
              "      <th>0</th>\n",
              "      <td>58</td>\n",
              "      <td>0</td>\n",
              "      <td>3</td>\n",
              "      <td>0</td>\n",
              "      <td>72</td>\n",
              "      <td>6</td>\n",
              "      <td>8</td>\n",
              "      <td>34</td>\n",
              "      <td>21</td>\n",
              "      <td>31</td>\n",
              "      <td>0</td>\n",
              "    </tr>\n",
              "    <tr>\n",
              "      <th>1</th>\n",
              "      <td>55</td>\n",
              "      <td>1</td>\n",
              "      <td>69</td>\n",
              "      <td>45</td>\n",
              "      <td>235</td>\n",
              "      <td>54</td>\n",
              "      <td>86</td>\n",
              "      <td>41</td>\n",
              "      <td>20</td>\n",
              "      <td>23</td>\n",
              "      <td>0</td>\n",
              "    </tr>\n",
              "    <tr>\n",
              "      <th>2</th>\n",
              "      <td>55</td>\n",
              "      <td>1</td>\n",
              "      <td>56</td>\n",
              "      <td>36</td>\n",
              "      <td>202</td>\n",
              "      <td>50</td>\n",
              "      <td>58</td>\n",
              "      <td>36</td>\n",
              "      <td>21</td>\n",
              "      <td>30</td>\n",
              "      <td>0</td>\n",
              "    </tr>\n",
              "    <tr>\n",
              "      <th>3</th>\n",
              "      <td>52</td>\n",
              "      <td>1</td>\n",
              "      <td>6</td>\n",
              "      <td>3</td>\n",
              "      <td>67</td>\n",
              "      <td>4</td>\n",
              "      <td>10</td>\n",
              "      <td>34</td>\n",
              "      <td>22</td>\n",
              "      <td>37</td>\n",
              "      <td>0</td>\n",
              "    </tr>\n",
              "    <tr>\n",
              "      <th>4</th>\n",
              "      <td>64</td>\n",
              "      <td>1</td>\n",
              "      <td>35</td>\n",
              "      <td>19</td>\n",
              "      <td>80</td>\n",
              "      <td>17</td>\n",
              "      <td>49</td>\n",
              "      <td>39</td>\n",
              "      <td>12</td>\n",
              "      <td>4</td>\n",
              "      <td>0</td>\n",
              "    </tr>\n",
              "    <tr>\n",
              "      <th>...</th>\n",
              "      <td>...</td>\n",
              "      <td>...</td>\n",
              "      <td>...</td>\n",
              "      <td>...</td>\n",
              "      <td>...</td>\n",
              "      <td>...</td>\n",
              "      <td>...</td>\n",
              "      <td>...</td>\n",
              "      <td>...</td>\n",
              "      <td>...</td>\n",
              "      <td>...</td>\n",
              "    </tr>\n",
              "    <tr>\n",
              "      <th>578</th>\n",
              "      <td>53</td>\n",
              "      <td>1</td>\n",
              "      <td>1</td>\n",
              "      <td>0</td>\n",
              "      <td>204</td>\n",
              "      <td>10</td>\n",
              "      <td>24</td>\n",
              "      <td>25</td>\n",
              "      <td>4</td>\n",
              "      <td>2</td>\n",
              "      <td>1</td>\n",
              "    </tr>\n",
              "    <tr>\n",
              "      <th>579</th>\n",
              "      <td>34</td>\n",
              "      <td>1</td>\n",
              "      <td>2</td>\n",
              "      <td>0</td>\n",
              "      <td>5</td>\n",
              "      <td>25</td>\n",
              "      <td>21</td>\n",
              "      <td>26</td>\n",
              "      <td>20</td>\n",
              "      <td>42</td>\n",
              "      <td>0</td>\n",
              "    </tr>\n",
              "    <tr>\n",
              "      <th>580</th>\n",
              "      <td>46</td>\n",
              "      <td>1</td>\n",
              "      <td>4</td>\n",
              "      <td>1</td>\n",
              "      <td>118</td>\n",
              "      <td>38</td>\n",
              "      <td>39</td>\n",
              "      <td>30</td>\n",
              "      <td>20</td>\n",
              "      <td>37</td>\n",
              "      <td>0</td>\n",
              "    </tr>\n",
              "    <tr>\n",
              "      <th>581</th>\n",
              "      <td>25</td>\n",
              "      <td>1</td>\n",
              "      <td>9</td>\n",
              "      <td>4</td>\n",
              "      <td>69</td>\n",
              "      <td>19</td>\n",
              "      <td>22</td>\n",
              "      <td>34</td>\n",
              "      <td>22</td>\n",
              "      <td>37</td>\n",
              "      <td>0</td>\n",
              "    </tr>\n",
              "    <tr>\n",
              "      <th>582</th>\n",
              "      <td>32</td>\n",
              "      <td>1</td>\n",
              "      <td>6</td>\n",
              "      <td>2</td>\n",
              "      <td>98</td>\n",
              "      <td>11</td>\n",
              "      <td>14</td>\n",
              "      <td>39</td>\n",
              "      <td>32</td>\n",
              "      <td>56</td>\n",
              "      <td>1</td>\n",
              "    </tr>\n",
              "  </tbody>\n",
              "</table>\n",
              "<p>583 rows × 11 columns</p>\n",
              "</div>"
            ],
            "text/plain": [
              "     Age  Gender  Total_Bilirubin  Direct_Bilirubin  Alkaline_Phosphotase   \n",
              "0     58       0                3                 0                    72  \\\n",
              "1     55       1               69                45                   235   \n",
              "2     55       1               56                36                   202   \n",
              "3     52       1                6                 3                    67   \n",
              "4     64       1               35                19                    80   \n",
              "..   ...     ...              ...               ...                   ...   \n",
              "578   53       1                1                 0                   204   \n",
              "579   34       1                2                 0                     5   \n",
              "580   46       1                4                 1                   118   \n",
              "581   25       1                9                 4                    69   \n",
              "582   32       1                6                 2                    98   \n",
              "\n",
              "     Alamine_Aminotransferase  Aspartate_Aminotransferase  Total_Protiens   \n",
              "0                           6                           8              34  \\\n",
              "1                          54                          86              41   \n",
              "2                          50                          58              36   \n",
              "3                           4                          10              34   \n",
              "4                          17                          49              39   \n",
              "..                        ...                         ...             ...   \n",
              "578                        10                          24              25   \n",
              "579                        25                          21              26   \n",
              "580                        38                          39              30   \n",
              "581                        19                          22              34   \n",
              "582                        11                          14              39   \n",
              "\n",
              "     Albumin  Albumin_and_Globulin_Ratio  Dataset  \n",
              "0         21                          31        0  \n",
              "1         20                          23        0  \n",
              "2         21                          30        0  \n",
              "3         22                          37        0  \n",
              "4         12                           4        0  \n",
              "..       ...                         ...      ...  \n",
              "578        4                           2        1  \n",
              "579       20                          42        0  \n",
              "580       20                          37        0  \n",
              "581       22                          37        0  \n",
              "582       32                          56        1  \n",
              "\n",
              "[583 rows x 11 columns]"
            ]
          },
          "execution_count": 52,
          "metadata": {},
          "output_type": "execute_result"
        }
      ],
      "source": [
        "df"
      ]
    },
    {
      "cell_type": "markdown",
      "id": "5e075b81-b33e-4a60-a4c9-7876e8c44f70",
      "metadata": {
        "id": "5e075b81-b33e-4a60-a4c9-7876e8c44f70"
      },
      "source": [
        "<h3>Finding correlation</h3>"
      ]
    },
    {
      "cell_type": "code",
      "execution_count": null,
      "id": "c499968d-8383-4c43-811e-8d6a00d949ca",
      "metadata": {
        "id": "c499968d-8383-4c43-811e-8d6a00d949ca",
        "outputId": "faae09e6-a30a-4e26-9279-9b1c0cd77945"
      },
      "outputs": [
        {
          "name": "stdout",
          "output_type": "stream",
          "text": [
            "Attributes with correlation > 0.5:\n",
            "                       level_0                     level_1         0\n",
            "3              Total_Bilirubin            Direct_Bilirubin  0.957105\n",
            "4              Total_Bilirubin  Aspartate_Aminotransferase  0.504972\n",
            "5             Direct_Bilirubin             Total_Bilirubin  0.957105\n",
            "9     Alamine_Aminotransferase  Aspartate_Aminotransferase  0.803791\n",
            "10  Aspartate_Aminotransferase             Total_Bilirubin  0.504972\n",
            "11  Aspartate_Aminotransferase    Alamine_Aminotransferase  0.803791\n",
            "14              Total_Protiens                     Albumin  0.778525\n",
            "15                     Albumin              Total_Protiens  0.778525\n",
            "17                     Albumin  Albumin_and_Globulin_Ratio  0.736814\n",
            "18  Albumin_and_Globulin_Ratio                     Albumin  0.736814\n"
          ]
        },
        {
          "data": {
            "image/png": "[encoded data removed]",
            "text/plain": [
              "<Figure size 640x480 with 1 Axes>"
            ]
          },
          "metadata": {},
          "output_type": "display_data"
        },
        {
          "data": {
            "image/png": "[encoded data removed]",
            "text/plain": [
              "<Figure size 1200x1000 with 12 Axes>"
            ]
          },
          "metadata": {},
          "output_type": "display_data"
        }
      ],
      "source": [
        "correlations = df.corr()\n",
        "high_corr_attributes = correlations[correlations > 0.5].stack().reset_index()\n",
        "high_corr_attributes = high_corr_attributes[high_corr_attributes['level_0'] != high_corr_attributes['level_1']]\n",
        "print(\"Attributes with correlation > 0.5:\")\n",
        "print(high_corr_attributes)\n",
        "\n",
        "# Visualize attributes and detect outliers\n",
        "df.boxplot()\n",
        "plt.show()\n",
        "\n",
        "# Plot distribution plots\n",
        "df.hist(figsize=(12, 10))\n",
        "plt.show()"
      ]
    },
    {
      "cell_type": "markdown",
      "id": "a78227ce-fed8-49ce-907e-4207aefb159d",
      "metadata": {
        "id": "a78227ce-fed8-49ce-907e-4207aefb159d"
      },
      "source": [
        "<h3>finding missing value</h3>"
      ]
    },
    {
      "cell_type": "code",
      "execution_count": null,
      "id": "3dac9d9a-ba78-4e1f-a40e-42d95c940286",
      "metadata": {
        "id": "3dac9d9a-ba78-4e1f-a40e-42d95c940286",
        "outputId": "c55b8c81-8abe-4592-c0ac-3e70c35dc604"
      },
      "outputs": [
        {
          "name": "stdout",
          "output_type": "stream",
          "text": [
            "Missing values:\n",
            "Age                           0\n",
            "Gender                        0\n",
            "Total_Bilirubin               0\n",
            "Direct_Bilirubin              0\n",
            "Alkaline_Phosphotase          0\n",
            "Alamine_Aminotransferase      0\n",
            "Aspartate_Aminotransferase    0\n",
            "Total_Protiens                0\n",
            "Albumin                       0\n",
            "Albumin_and_Globulin_Ratio    0\n",
            "Dataset                       0\n",
            "dtype: int64\n"
          ]
        }
      ],
      "source": [
        "missing_values = df.isnull().sum()\n",
        "print(\"Missing values:\")\n",
        "print(missing_values)\n",
        "\n",
        "# Fill missing values (if any)\n",
        "# Example: Fill missing values with the mean\n",
        "df.fillna(df.mean(), inplace=True)"
      ]
    },
    {
      "cell_type": "markdown",
      "id": "a4741bde-e9f4-43af-abf9-47ee447edcf1",
      "metadata": {
        "id": "a4741bde-e9f4-43af-abf9-47ee447edcf1"
      },
      "source": [
        "<h3>Normalization</h3>"
      ]
    },
    {
      "cell_type": "code",
      "execution_count": null,
      "id": "3120dda1-0391-4745-9ca2-79c40ba3bfc6",
      "metadata": {
        "id": "3120dda1-0391-4745-9ca2-79c40ba3bfc6"
      },
      "outputs": [],
      "source": [
        "scaler = MinMaxScaler()\n",
        "normalize_df = scaler.fit_transform(df.iloc[:, :-1])\n",
        "normalize_df = pd.DataFrame(normalize_df, columns=df.columns[:-1])\n",
        "normalize_df['Dataset'] = df['Dataset']  # Add back the column"
      ]
    },
    {
      "cell_type": "code",
      "execution_count": null,
      "id": "c2bfc1b7-63ee-4378-9a38-471ecc0fc021",
      "metadata": {
        "id": "c2bfc1b7-63ee-4378-9a38-471ecc0fc021"
      },
      "outputs": [],
      "source": [
        "# Split the data into features (X) and target (y)\n",
        "X = normalize_df.iloc[:, :-1]\n",
        "y = normalize_df['Dataset']\n",
        "\n",
        "# Decision Tree classifier\n",
        "dt_classifier = DecisionTreeClassifier()\n",
        "dt_scores = cross_val_score(dt_classifier, X, y, cv=4)\n",
        "\n",
        "# Naïve Bayes classifier\n",
        "nb_classifier = GaussianNB()\n",
        "nb_scores = cross_val_score(nb_classifier, X, y, cv=4)"
      ]
    },
    {
      "cell_type": "markdown",
      "id": "6d5aff53-6b3d-42db-afeb-37e9241a5cf3",
      "metadata": {
        "id": "6d5aff53-6b3d-42db-afeb-37e9241a5cf3"
      },
      "source": [
        "<h3>Hyperparameter</h3>"
      ]
    },
    {
      "cell_type": "code",
      "execution_count": null,
      "id": "1faa73ee-8eec-4d5a-aaf4-d16dfe744c85",
      "metadata": {
        "id": "1faa73ee-8eec-4d5a-aaf4-d16dfe744c85",
        "outputId": "a99d14bc-a9cb-4f25-b526-db711a083dec"
      },
      "outputs": [
        {
          "data": {
            "text/plain": [
              "0.7435897435897436"
            ]
          },
          "execution_count": 84,
          "metadata": {},
          "output_type": "execute_result"
        }
      ],
      "source": [
        "# Hyperparameter optimization using Grid Search\n",
        "# Create an instance of the DecisionTreeClassifier\n",
        "dt_classifier = DecisionTreeClassifier()\n",
        "dt_param_grid = {\n",
        "    'max_depth': [None, 5, 10, 20],\n",
        "    'min_samples_split': [2, 5, 10],\n",
        "    'min_samples_leaf': [1, 2, 4]\n",
        "}\n",
        "\n",
        "dt_grid_search = GridSearchCV(dt_classifier, dt_param_grid, cv=4)\n",
        "dt_grid_search.fit(X, y)\n",
        "dt_best_model = dt_grid_search.best_estimator_\n",
        "\n",
        "# Hyperparameter optimization using Random Search\n",
        "dt_random_search = RandomizedSearchCV(dt_classifier, dt_param_grid, cv=5)\n",
        "dt_random_search.fit(X, y)\n",
        "dt_random_best_model = dt_random_search.best_estimator_\n",
        "b=dt_random_best_model.predict(x_test)\n",
        "accuracy_score(y_test, b)"
      ]
    },
    {
      "cell_type": "code",
      "execution_count": null,
      "id": "9b18d416-7c81-4c96-a680-55b036a10760",
      "metadata": {
        "id": "9b18d416-7c81-4c96-a680-55b036a10760"
      },
      "outputs": [],
      "source": [
        "from sklearn.model_selection import StratifiedKFold\n",
        "\n",
        "nb_classifier = GaussianNB()\n",
        "skf = StratifiedKFold(n_splits=5)\n",
        "nb_scores = cross_val_score(nb_classifier, X, y, cv=skf)"
      ]
    },
    {
      "cell_type": "markdown",
      "id": "63f2426c-a85d-49ad-88ad-af74c78a1c54",
      "metadata": {
        "id": "63f2426c-a85d-49ad-88ad-af74c78a1c54"
      },
      "source": [
        "<h3>splitting the data</h3>"
      ]
    },
    {
      "cell_type": "code",
      "execution_count": null,
      "id": "248fb260-c686-4ce9-bcad-adf05da7c22f",
      "metadata": {
        "id": "248fb260-c686-4ce9-bcad-adf05da7c22f",
        "outputId": "d8261975-a305-4ce6-b6f7-03bbceb35a58"
      },
      "outputs": [
        {
          "data": {
            "text/plain": [
              "0.5555555555555556"
            ]
          },
          "execution_count": 87,
          "metadata": {},
          "output_type": "execute_result"
        }
      ],
      "source": [
        "from sklearn.model_selection import train_test_split\n",
        "from sklearn.naive_bayes import GaussianNB\n",
        "from sklearn.metrics import accuracy_score, confusion_matrix\n",
        "\n",
        "param_grid_nb = {\n",
        "    'var_smoothing': np.logspace(0,-9, num=100)\n",
        "}\n",
        "# Split the data into training and testing sets\n",
        "x_train, x_test, y_train, y_test = train_test_split(X, y, test_size=.2, random_state=5)\n",
        "\n",
        "# Create and fit the Gaussian Naive Bayes classifier\n",
        "nb_classifier = GaussianNB()\n",
        "nb_classifier.fit(x_train, y_train)\n",
        "\n",
        "# Make predictions on the test set\n",
        "y_pred_nb = nb_classifier.predict(x_test)\n",
        "\n",
        "# Evaluate the accuracy of the classifier\n",
        "accuracy_nb = accuracy_score(y_test, y_pred_nb)\n",
        "accuracy_nb\n",
        "\n",
        "\n"
      ]
    },
    {
      "cell_type": "code",
      "execution_count": null,
      "id": "69f804fe-24f5-4736-b7f4-409db1348a61",
      "metadata": {
        "id": "69f804fe-24f5-4736-b7f4-409db1348a61",
        "outputId": "e4850f01-52a5-494f-ce02-3c71dd59a9d7"
      },
      "outputs": [
        {
          "data": {
            "text/plain": [
              "array([[34, 46],\n",
              "       [ 6, 31]])"
            ]
          },
          "execution_count": 76,
          "metadata": {},
          "output_type": "execute_result"
        }
      ],
      "source": [
        "confusion_nb = confusion_matrix(y_test, y_pred_nb)\n",
        "confusion_nb"
      ]
    },
    {
      "cell_type": "code",
      "execution_count": null,
      "id": "76749cce-a4d0-431c-900d-481b5c99d052",
      "metadata": {
        "id": "76749cce-a4d0-431c-900d-481b5c99d052",
        "outputId": "234cfab9-cdf2-4508-b6ec-31e483acc7f9"
      },
      "outputs": [
        {
          "name": "stdout",
          "output_type": "stream",
          "text": [
            "0.6243567753001715\n"
          ]
        }
      ],
      "source": [
        "# Evaluate the models\n",
        "# Perform grid search using cross-validation\n",
        "dt_grid_search = GridSearchCV(nb_classifier, param_grid_nb, cv=5)\n",
        "dt_grid_search.fit(X, y)\n",
        "\n",
        "# Get the best model from the grid search\n",
        "dt_best_model = dt_grid_search.best_estimator_\n",
        "y_pred_dt = dt_best_model.predict(X)\n",
        "accuracy_dt = accuracy_score(y, y_pred_dt)\n",
        "confusion_dt = confusion_matrix(y, y_pred_dt)\n",
        "precision_dt = precision_score(y, y_pred_dt, average='micro')\n",
        "recall_dt = recall_score(y, y_pred_dt, average='micro')\n",
        "\n",
        "f1_score_dt = f1_score(y, y_pred_dt, average='micro')\n",
        "\n",
        "\n",
        "y_pred_nb = nb_classifier.predict(X)\n",
        "accuracy_nb = accuracy_score(y, y_pred_nb)\n",
        "confusion_nb = confusion_matrix(y, y_pred_nb)\n",
        "precision_nb = precision_score(y, y_pred_nb, average='micro')\n",
        "recall_nb = recall_score(y, y_pred_nb, average='micro')\n",
        "f1_score_nb = f1_score(y, y_pred_nb, average='micro')\n",
        "print(accuracy_nb)"
      ]
    },
    {
      "cell_type": "code",
      "execution_count": null,
      "id": "5b61ceaa-bda8-4485-b410-7228c6e06adc",
      "metadata": {
        "id": "5b61ceaa-bda8-4485-b410-7228c6e06adc"
      },
      "outputs": [],
      "source": [
        "# Create a DataFrame with the model names and their respective scores\n",
        "results = pd.DataFrame({\n",
        "    'Model': ['Decision Tree', 'Naïve Bayes'],\n",
        "    'Accuracy': [accuracy_dt, accuracy_nb],\n",
        "    'Precision': [precision_dt, precision_nb],\n",
        "    'Recall': [recall_dt, recall_nb],\n",
        "    'F1-Score': [f1_score_dt, f1_score_nb]\n",
        "})\n",
        "\n",
        "# Save the DataFrame to a CSV file\n",
        "results.to_csv('classification_results.csv', index=False)"
      ]
    },
    {
      "cell_type": "code",
      "execution_count": null,
      "id": "30b50a24-737f-4488-9cc5-a84a3ee84ae1",
      "metadata": {
        "id": "30b50a24-737f-4488-9cc5-a84a3ee84ae1"
      },
      "outputs": [],
      "source": [
        "import pickle\n",
        "\n",
        "# Train the model (example using Decision Tree classifier)\n",
        "dt_classifier = DecisionTreeClassifier()\n",
        "dt_classifier.fit(X, y)\n",
        "\n",
        "# Store the trained model\n",
        "with open('trained_model.pkl', 'wb') as file:\n",
        "    pickle.dump(dt_random_best_model, file)"
      ]
    },
    {
      "cell_type": "code",
      "execution_count": null,
      "id": "5851c0bd-06f0-41dd-91fb-c29a7b916068",
      "metadata": {
        "id": "5851c0bd-06f0-41dd-91fb-c29a7b916068",
        "outputId": "061ebd1a-a4c4-4b7c-f7db-63f7834e84e9"
      },
      "outputs": [
        {
          "name": "stdout",
          "output_type": "stream",
          "text": [
            "DecisionTreeClassifier(max_depth=5, min_samples_split=10)\n"
          ]
        }
      ],
      "source": [
        "with open('trained_model.pkl', 'rb') as file:\n",
        "    loaded_model = pickle.load(file)\n",
        "\n",
        "# Print and explain the content of the model\n",
        "print(loaded_model)"
      ]
    },
    {
      "cell_type": "code",
      "execution_count": null,
      "id": "f38db9f7-8715-41ee-b58d-ae36a22c639d",
      "metadata": {
        "id": "f38db9f7-8715-41ee-b58d-ae36a22c639d"
      },
      "outputs": [],
      "source": [
        "S"
      ]
    }
  ],
  "metadata": {
    "kernelspec": {
      "display_name": "Python 3 (ipykernel)",
      "language": "python",
      "name": "python3"
    },
    "language_info": {
      "codemirror_mode": {
        "name": "ipython",
        "version": 3
      },
      "file_extension": ".py",
      "mimetype": "text/x-python",
      "name": "python",
      "nbconvert_exporter": "python",
      "pygments_lexer": "ipython3",
      "version": "3.9.16"
    },
    "colab": {
      "provenance": []
    }
  },
  "nbformat": 4,
  "nbformat_minor": 5
}